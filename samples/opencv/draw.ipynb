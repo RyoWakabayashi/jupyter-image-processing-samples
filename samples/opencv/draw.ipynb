{
 "cells": [
  {
   "cell_type": "markdown",
   "metadata": {},
   "source": [
    "# OpenCV による画像の描画"
   ]
  },
  {
   "cell_type": "code",
   "execution_count": 1,
   "metadata": {},
   "outputs": [],
   "source": [
    "import cv2\n",
    "from matplotlib import pyplot as plt\n",
    "import numpy as np"
   ]
  },
  {
   "cell_type": "markdown",
   "metadata": {},
   "source": [
    "## 新規画像の作成"
   ]
  },
  {
   "cell_type": "code",
   "execution_count": 2,
   "metadata": {},
   "outputs": [
    {
     "name": "stdout",
     "output_type": "stream",
     "text": [
      "白画像\n"
     ]
    },
    {
     "data": {
      "image/png": "[encoded data removed]",
      "text/plain": [
       "<Figure size 432x288 with 1 Axes>"
      ]
     },
     "metadata": {},
     "output_type": "display_data"
    },
    {
     "name": "stdout",
     "output_type": "stream",
     "text": [
      "黒画像\n"
     ]
    },
    {
     "data": {
      "image/png": "[encoded data removed]",
      "text/plain": [
       "<Figure size 432x288 with 1 Axes>"
      ]
     },
     "metadata": {},
     "output_type": "display_data"
    }
   ],
   "source": [
    "# 白画像\n",
    "print(\"白画像\")\n",
    "img = np.ones((100, 100, 3), dtype=np.uint8) * 255\n",
    "plt.imshow(img)\n",
    "plt.show()\n",
    "\n",
    "# 黒画像\n",
    "print(\"黒画像\")\n",
    "img = np.zeros((100, 100, 3), dtype=np.uint8)\n",
    "plt.imshow(img)\n",
    "plt.show()"
   ]
  },
  {
   "cell_type": "code",
   "execution_count": 3,
   "metadata": {},
   "outputs": [
    {
     "name": "stdout",
     "output_type": "stream",
     "text": [
      "赤画像\n"
     ]
    },
    {
     "data": {
      "image/png": "[encoded data removed]",
      "text/plain": [
       "<Figure size 432x288 with 1 Axes>"
      ]
     },
     "metadata": {},
     "output_type": "display_data"
    },
    {
     "name": "stdout",
     "output_type": "stream",
     "text": [
      "緑画像\n"
     ]
    },
    {
     "data": {
      "image/png": "[encoded data removed]",
      "text/plain": [
       "<Figure size 432x288 with 1 Axes>"
      ]
     },
     "metadata": {},
     "output_type": "display_data"
    },
    {
     "name": "stdout",
     "output_type": "stream",
     "text": [
      "青画像\n"
     ]
    },
    {
     "data": {
      "image/png": "[encoded data removed]",
      "text/plain": [
       "<Figure size 432x288 with 1 Axes>"
      ]
     },
     "metadata": {},
     "output_type": "display_data"
    }
   ],
   "source": [
    "# 赤画像\n",
    "print(\"赤画像\")\n",
    "img = np.zeros((100, 100, 3), dtype=np.uint8)\n",
    "img[:,:] = (255, 0, 0)\n",
    "plt.imshow(img)\n",
    "plt.show()\n",
    "\n",
    "# 緑画像\n",
    "print(\"緑画像\")\n",
    "img = np.zeros((100, 100, 3), dtype=np.uint8)\n",
    "img[:,:] = (0, 255, 0)\n",
    "plt.imshow(img)\n",
    "plt.show()\n",
    "\n",
    "# 青画像\n",
    "print(\"青画像\")\n",
    "img = np.zeros((100, 100, 3), dtype=np.uint8)\n",
    "img[:,:] = (0, 0, 255)\n",
    "plt.imshow(img)\n",
    "plt.show()"
   ]
  },
  {
   "cell_type": "markdown",
   "metadata": {},
   "source": [
    "## 図形の描画"
   ]
  },
  {
   "cell_type": "code",
   "execution_count": 4,
   "metadata": {},
   "outputs": [
    {
     "data": {
      "image/png": "[encoded data removed]",
      "text/plain": [
       "<Figure size 432x288 with 1 Axes>"
      ]
     },
     "metadata": {},
     "output_type": "display_data"
    }
   ],
   "source": [
    "img = np.ones((100, 100, 3), dtype=np.uint8) * 255\n",
    "\n",
    "# 直線\n",
    "img = cv2.line(\n",
    "    img,\n",
    "    (0, 60), # 始点座標\n",
    "    (60, 100), # 終点座標\n",
    "    (0, 0, 255), # 色\n",
    "    thickness=5 # 太さ\n",
    ")\n",
    "\n",
    "# 四角形\n",
    "img = cv2.rectangle(\n",
    "    img,\n",
    "    (20, 40), # 左上座標\n",
    "    (60, 80), # 右下座標\n",
    "    (255, 0, 0), # 色\n",
    "    thickness=3 # 太さ\n",
    ")\n",
    "\n",
    "# 円\n",
    "img = cv2.circle(\n",
    "    img,\n",
    "    (80, 20), # 中心座標\n",
    "    10, # 半径\n",
    "    (0, 255, 0), # 色\n",
    "    thickness=2 # 太さ\n",
    ")\n",
    "\n",
    "plt.imshow(img)\n",
    "plt.show()"
   ]
  },
  {
   "cell_type": "markdown",
   "metadata": {},
   "source": [
    "## 文字の描画"
   ]
  },
  {
   "cell_type": "code",
   "execution_count": 5,
   "metadata": {},
   "outputs": [
    {
     "data": {
      "image/png": "[encoded data removed]",
      "text/plain": [
       "<Figure size 432x288 with 1 Axes>"
      ]
     },
     "metadata": {},
     "output_type": "display_data"
    }
   ],
   "source": [
    "img = np.ones((100, 100, 3), dtype=np.uint8) * 255\n",
    "\n",
    "# 英字\n",
    "img = cv2.putText(\n",
    "    img,\n",
    "    'Hello!!', # 文字\n",
    "    (40, 60), # 左下座標\n",
    "    cv2.FONT_HERSHEY_SIMPLEX, # フォント（次セルのリンク参照）\n",
    "    0.4, # 大きさ\n",
    "    (0, 0, 255), # 色\n",
    "    thickness=1 # 太さ\n",
    ")\n",
    "\n",
    "# 日本語はPillowで描画する\n",
    "\n",
    "plt.imshow(img)\n",
    "plt.show()"
   ]
  },
  {
   "cell_type": "markdown",
   "metadata": {},
   "source": [
    "[使用できるフォント](https://docs.opencv.org/3.4.10/d0/de1/group__core.html#ga0f9314ea6e35f99bb23f29567fc16e11)"
   ]
  }
 ],
 "metadata": {
  "kernelspec": {
   "display_name": "Python 3",
   "language": "python",
   "name": "python3"
  },
  "language_info": {
   "codemirror_mode": {
    "name": "ipython",
    "version": 3
   },
   "file_extension": ".py",
   "mimetype": "text/x-python",
   "name": "python",
   "nbconvert_exporter": "python",
   "pygments_lexer": "ipython3",
   "version": "3.6.5"
  }
 },
 "nbformat": 4,
 "nbformat_minor": 2
}
