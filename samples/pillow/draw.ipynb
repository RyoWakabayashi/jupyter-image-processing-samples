{
 "cells": [
  {
   "cell_type": "markdown",
   "metadata": {},
   "source": [
    "# Pillow による画像の描画"
   ]
  },
  {
   "cell_type": "code",
   "execution_count": 1,
   "metadata": {},
   "outputs": [],
   "source": [
    "from PIL import Image, ImageDraw, ImageFont\n",
    "from matplotlib import pyplot as plt\n",
    "import numpy as np"
   ]
  },
  {
   "cell_type": "markdown",
   "metadata": {},
   "source": [
    "## 新規画像の作成"
   ]
  },
  {
   "cell_type": "code",
   "execution_count": 2,
   "metadata": {},
   "outputs": [
    {
     "name": "stdout",
     "output_type": "stream",
     "text": [
      "白画像\n"
     ]
    },
    {
     "data": {
      "image/png": "[encoded data removed]",
      "text/plain": [
       "<Figure size 432x288 with 1 Axes>"
      ]
     },
     "metadata": {},
     "output_type": "display_data"
    },
    {
     "name": "stdout",
     "output_type": "stream",
     "text": [
      "黒画像\n"
     ]
    },
    {
     "data": {
      "image/png": "[encoded data removed]",
      "text/plain": [
       "<Figure size 432x288 with 1 Axes>"
      ]
     },
     "metadata": {},
     "output_type": "display_data"
    }
   ],
   "source": [
    "# 白画像\n",
    "print(\"白画像\")\n",
    "img = Image.new('RGB', (100, 100), (255, 255, 255))\n",
    "plt.imshow(np.asarray(img))\n",
    "plt.show()\n",
    "\n",
    "# 黒画像\n",
    "print(\"黒画像\")\n",
    "img = Image.new('RGB', (100, 100))\n",
    "plt.imshow(np.asarray(img))\n",
    "plt.show()"
   ]
  },
  {
   "cell_type": "code",
   "execution_count": 3,
   "metadata": {},
   "outputs": [
    {
     "name": "stdout",
     "output_type": "stream",
     "text": [
      "赤画像\n"
     ]
    },
    {
     "data": {
      "image/png": "[encoded data removed]",
      "text/plain": [
       "<Figure size 432x288 with 1 Axes>"
      ]
     },
     "metadata": {},
     "output_type": "display_data"
    },
    {
     "name": "stdout",
     "output_type": "stream",
     "text": [
      "緑画像\n"
     ]
    },
    {
     "data": {
      "image/png": "[encoded data removed]",
      "text/plain": [
       "<Figure size 432x288 with 1 Axes>"
      ]
     },
     "metadata": {},
     "output_type": "display_data"
    },
    {
     "name": "stdout",
     "output_type": "stream",
     "text": [
      "青画像\n"
     ]
    },
    {
     "data": {
      "image/png": "[encoded data removed]",
      "text/plain": [
       "<Figure size 432x288 with 1 Axes>"
      ]
     },
     "metadata": {},
     "output_type": "display_data"
    }
   ],
   "source": [
    "# 赤画像\n",
    "print(\"赤画像\")\n",
    "img = Image.new('RGB', (100, 100), (255, 0, 0))\n",
    "plt.imshow(np.asarray(img))\n",
    "plt.show()\n",
    "\n",
    "# 緑画像\n",
    "print(\"緑画像\")\n",
    "img = Image.new('RGB', (100, 100), (0, 255, 0))\n",
    "plt.imshow(np.asarray(img))\n",
    "plt.show()\n",
    "\n",
    "# 青画像\n",
    "print(\"青画像\")\n",
    "img = Image.new('RGB', (100, 100), (0, 0, 255))\n",
    "plt.imshow(np.asarray(img))\n",
    "plt.show()"
   ]
  },
  {
   "cell_type": "markdown",
   "metadata": {},
   "source": [
    "## 図形の描画"
   ]
  },
  {
   "cell_type": "code",
   "execution_count": 4,
   "metadata": {},
   "outputs": [
    {
     "data": {
      "image/png": "[encoded data removed]",
      "text/plain": [
       "<Figure size 432x288 with 1 Axes>"
      ]
     },
     "metadata": {},
     "output_type": "display_data"
    }
   ],
   "source": [
    "img = Image.new('RGB', (100, 100), (255, 255, 255))\n",
    "draw = ImageDraw.Draw(img)\n",
    "\n",
    "# 直線\n",
    "draw.line(\n",
    "    (0, 60, # 始点座標\n",
    "    60, 100), # 終点座標\n",
    "    fill=(0, 0, 255), # 色\n",
    "    width=5 # 太さ\n",
    ")\n",
    "\n",
    "# 四角形と円の太さは指定できないため、OpenCVでやるか、複数回ずらして描画する\n",
    "\n",
    "# 四角形\n",
    "draw.rectangle(\n",
    "    (20, 40, # 左上座標\n",
    "    60, 80), # 右下座標\n",
    "    outline=(255, 0, 0) # 色\n",
    ")\n",
    "\n",
    "# 円\n",
    "draw.ellipse(\n",
    "    (70, 10, # 左上座標\n",
    "    90, 30), # 右下座標\n",
    "    outline=(0, 255, 0) # 色\n",
    ")\n",
    "\n",
    "plt.imshow(np.asarray(img))\n",
    "plt.show()"
   ]
  },
  {
   "cell_type": "markdown",
   "metadata": {},
   "source": [
    "## 文字の描画"
   ]
  },
  {
   "cell_type": "code",
   "execution_count": 5,
   "metadata": {},
   "outputs": [
    {
     "data": {
      "image/png": "[encoded data removed]",
      "text/plain": [
       "<Figure size 432x288 with 1 Axes>"
      ]
     },
     "metadata": {},
     "output_type": "display_data"
    }
   ],
   "source": [
    "img = Image.new('RGB', (100, 100), (255, 255, 255))\n",
    "draw = ImageDraw.Draw(img)\n",
    "\n",
    "font = ImageFont.truetype(\n",
    "    '/Users/oec/Library/Fonts/ipam.ttf', # フォントファイル : 環境によって変える\n",
    "    15 # サイズ\n",
    ")\n",
    "\n",
    "# 英字\n",
    "draw.text(\n",
    "    (40, 50), # 左上座標\n",
    "    'Hello!!', # 文字\n",
    "    fill=(0, 0, 255), # 色\n",
    "    font=font\n",
    ")\n",
    "\n",
    "# 日本語\n",
    "draw.text(\n",
    "    (20, 30), # 左上座標\n",
    "    'こんにちは！', # 文字\n",
    "    fill=(255, 0, 0), # 色\n",
    "    font=font\n",
    ")\n",
    "\n",
    "plt.imshow(np.asarray(img))\n",
    "plt.show()"
   ]
  }
 ],
 "metadata": {
  "kernelspec": {
   "display_name": "Python 3",
   "language": "python",
   "name": "python3"
  },
  "language_info": {
   "codemirror_mode": {
    "name": "ipython",
    "version": 3
   },
   "file_extension": ".py",
   "mimetype": "text/x-python",
   "name": "python",
   "nbconvert_exporter": "python",
   "pygments_lexer": "ipython3",
   "version": "3.6.5"
  }
 },
 "nbformat": 4,
 "nbformat_minor": 2
}
